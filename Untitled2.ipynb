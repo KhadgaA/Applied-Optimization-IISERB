{
 "cells": [
  {
   "cell_type": "markdown",
   "id": "033676e4-c93f-4c2e-b76b-3e09a6daed41",
   "metadata": {},
   "source": [
    "# Question 5"
   ]
  },
  {
   "cell_type": "code",
   "execution_count": 8,
   "id": "ccf24859-73bb-4b1d-a8d2-af2299b41003",
   "metadata": {},
   "outputs": [
    {
     "name": "stdout",
     "output_type": "stream",
     "text": [
      "Number of variables = 5\n",
      "Number of constraints = 1\n",
      "x[0]  =  1.0\n",
      "x[1]  =  0.0\n",
      "x[2]  =  0.0\n",
      "x[3]  =  0.0\n",
      "x[4]  =  1.0\n",
      "\n",
      "The city visited is :  =>  UP =>  Maharastra\n",
      "Votes gained/generated = 165000.0\n"
     ]
    }
   ],
   "source": [
    "from ortools.linear_solver import pywraplp\n",
    "\n",
    "\n",
    "def create_data_model():\n",
    "    \"\"\"Stores the data for the problem.\"\"\"\n",
    "    data = {}\n",
    "    data['constraint_coeffs'] = [\n",
    "        [5, 3, 3, 4, 4]\n",
    "    ]\n",
    "    data['bounds'] = [10]\n",
    "    data['obj_coeffs'] = [100000, 50000, 25000, 40000, 65000]\n",
    "    data['num_vars'] = 5\n",
    "    data['num_constraints'] = 1\n",
    "    return data\n",
    "\n",
    "\n",
    "city = ['UP','Bihar', 'MP','Rajasthan','Maharastra']\n",
    "visited = []\n",
    "\n",
    "def main():\n",
    "    data = create_data_model()\n",
    "    # Create the mip solver with the SCIP backend.\n",
    "    solver = pywraplp.Solver.CreateSolver('SCIP')\n",
    "\n",
    "    infinity = solver.infinity()\n",
    "    x = {}\n",
    "    for j in range(data['num_vars']):\n",
    "        x[j] = solver.IntVar(0, 1, 'x[%i]' % j)\n",
    "    print('Number of variables =', solver.NumVariables())\n",
    "\n",
    "    for i in range(data['num_constraints']):\n",
    "        constraint = solver.RowConstraint(0, data['bounds'][i], '')\n",
    "        for j in range(data['num_vars']):\n",
    "            constraint.SetCoefficient(x[j], data['constraint_coeffs'][i][j])\n",
    "    print('Number of constraints =', solver.NumConstraints())\n",
    "\n",
    "    objective = solver.Objective()\n",
    "    for j in range(data['num_vars']):\n",
    "        objective.SetCoefficient(x[j], data['obj_coeffs'][j])\n",
    "    objective.SetMaximization()\n",
    "    \n",
    "    status = solver.Solve()\n",
    "\n",
    "    if status == pywraplp.Solver.OPTIMAL:\n",
    "        \n",
    "        for j in range(data['num_vars']):\n",
    "            print(x[j].name(), ' = ', x[j].solution_value())\n",
    "            if x[j].solution_value() == 1:visited.append(j)\n",
    "        print()\n",
    "    \n",
    "    else:\n",
    "        print('The problem does not have an optimal solution.')\n",
    "    if len(visited) != 0: \n",
    "        print('The city visited is : ',end = '')\n",
    "        for visits in visited:\n",
    "            print(' => ',city[visits],end = '')\n",
    "    print('\\nVotes gained/generated =', solver.Objective().Value())\n",
    "\n",
    "if __name__ == '__main__':\n",
    "    main()\n",
    " "
   ]
  },
  {
   "cell_type": "code",
   "execution_count": null,
   "id": "d0300706-6e3e-464a-8121-ebbd1751e793",
   "metadata": {},
   "outputs": [],
   "source": []
  }
 ],
 "metadata": {
  "kernelspec": {
   "display_name": "Python 3 (ipykernel)",
   "language": "python",
   "name": "python3"
  },
  "language_info": {
   "codemirror_mode": {
    "name": "ipython",
    "version": 3
   },
   "file_extension": ".py",
   "mimetype": "text/x-python",
   "name": "python",
   "nbconvert_exporter": "python",
   "pygments_lexer": "ipython3",
   "version": "3.8.8"
  }
 },
 "nbformat": 4,
 "nbformat_minor": 5
}
