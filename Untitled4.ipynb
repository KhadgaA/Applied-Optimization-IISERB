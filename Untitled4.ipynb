{
 "cells": [
  {
   "cell_type": "code",
   "execution_count": 1,
   "id": "168c8d4a-30e6-4f9f-9b5e-37cb9d1d2744",
   "metadata": {},
   "outputs": [],
   "source": [
    "from math import e\n",
    "import numpy as np\n",
    "import matplotlib.pyplot as plt"
   ]
  },
  {
   "cell_type": "code",
   "execution_count": 22,
   "id": "3614eeaf-7fb6-436b-b714-2a612974324c",
   "metadata": {},
   "outputs": [
    {
     "data": {
      "image/png": "[encoded data removed]",
      "text/plain": [
       "<Figure size 432x288 with 1 Axes>"
      ]
     },
     "metadata": {
      "needs_background": "light"
     },
     "output_type": "display_data"
    }
   ],
   "source": [
    "x = np.arange(-5,6,1)\n",
    "F = e**x + e**(-x)\n",
    "plt.plot(x,F)\n",
    "# plt.axhline()\n",
    "# plt.plot(x,10)\n",
    "plt.show()"
   ]
  },
  {
   "cell_type": "markdown",
   "id": "b3612b44-4083-4271-86f2-8a8bb78eda99",
   "metadata": {},
   "source": [
    "## Gradient Descent"
   ]
  },
  {
   "cell_type": "code",
   "execution_count": 3,
   "id": "9205c446-0cbb-4d2e-a3b8-c9ff8abb4445",
   "metadata": {},
   "outputs": [],
   "source": [
    "def grad(x) : return e**x - e**(-x)"
   ]
  },
  {
   "cell_type": "code",
   "execution_count": 4,
   "id": "258c5fbe-8db4-469f-9e02-8936fc4878df",
   "metadata": {},
   "outputs": [
    {
     "name": "stdout",
     "output_type": "stream",
     "text": [
      "1.2919999999999998\n",
      "0.2919999999999998\n",
      "-0.7080000000000002\n"
     ]
    }
   ],
   "source": [
    "x = 2.292\n",
    "alpha  = 1\n",
    "for i in range(10):\n",
    "    gradi = grad(x)\n",
    "    if gradi<=0.01:break\n",
    "    x = x - alpha*gradi/np.abs(gradi)\n",
    "    print(x)\n",
    "    "
   ]
  },
  {
   "cell_type": "code",
   "execution_count": 5,
   "id": "2f7c3d11-5c92-4e08-a45b-86d316cbc24b",
   "metadata": {},
   "outputs": [],
   "source": [
    "def F(x) :e**x + e**(-x)"
   ]
  },
  {
   "cell_type": "code",
   "execution_count": 6,
   "id": "807f8040-2eb4-41fd-9788-ff924d208359",
   "metadata": {},
   "outputs": [
    {
     "name": "stdout",
     "output_type": "stream",
     "text": [
      "9.0\n",
      "8.0\n",
      "7.0\n",
      "6.0\n",
      "5.0\n",
      "4.0\n",
      "3.0\n",
      "2.0\n",
      "1.0\n",
      "0.0\n"
     ]
    }
   ],
   "source": [
    "# x = 2.292\n",
    "x = 10\n",
    "alpha  = 1\n",
    "for i in range(10):\n",
    "    gradi = grad(x)\n",
    "    if gradi<=0.01:break\n",
    "    x = x - alpha*gradi/np.abs(gradi)\n",
    "#     F = F(x)\n",
    "#     plt.plot(x,F)\n",
    "    print(x)"
   ]
  },
  {
   "cell_type": "code",
   "execution_count": 7,
   "id": "5b794f60-6ea1-497d-8315-22abe96fab8d",
   "metadata": {},
   "outputs": [
    {
     "name": "stdout",
     "output_type": "stream",
     "text": [
      "9.0\n",
      "8.0\n",
      "7.0\n",
      "6.0\n",
      "5.0\n",
      "4.0\n",
      "3.0\n",
      "2.0\n",
      "1.0\n",
      "0.0\n"
     ]
    }
   ],
   "source": [
    "step_size =1\n",
    "x =10\n",
    "rate = 1\n",
    "iters = 10\n",
    "precision = 0.00001\n",
    "for i in range(10):\n",
    "    prev_x = x \n",
    "    x = x - rate * grad(prev_x)/abs(grad(prev_x))\n",
    "    step_size = abs(x - prev_x)\n",
    "    print(x)"
   ]
  },
  {
   "cell_type": "markdown",
   "id": "ca7a4467-f1b4-419d-8115-8d73f6794e76",
   "metadata": {},
   "source": [
    "## RMS Prop"
   ]
  },
  {
   "cell_type": "code",
   "execution_count": 8,
   "id": "9683feda-50f5-436c-8694-4291e22963b8",
   "metadata": {},
   "outputs": [
    {
     "name": "stdout",
     "output_type": "stream",
     "text": [
      "6.837722344371613\n",
      "6.69676534908211\n",
      "6.567825531114416\n",
      "6.448438260396112\n",
      "6.336824786895147\n",
      "6.231657255690048\n",
      "6.131917040857915\n",
      "6.036804995287417\n",
      "5.945682244548954\n",
      "5.858029793295093\n",
      "5.773420170580179\n",
      "5.691497033805622\n",
      "5.611960183066436\n",
      "5.534554344143663\n",
      "5.459060633275145\n",
      "5.38528996676397\n",
      "5.313077905026229\n",
      "5.2422805708069\n",
      "5.17277138288225\n",
      "5.104438416618908\n",
      "5.0371822518959695\n",
      "4.970914203901632\n",
      "4.905554857610686\n",
      "4.841032845267414\n",
      "4.7772838199194725\n",
      "4.714249588328539\n",
      "4.651877374365583\n",
      "4.590119189946387\n",
      "4.528931295149632\n",
      "4.468273732726626\n",
      "4.408109925007286\n",
      "4.348406323414178\n",
      "4.289132102551319\n",
      "4.230258892238855\n",
      "4.171760541995648\n",
      "4.113612913387919\n",
      "4.055793696408315\n",
      "3.9982822466609127\n",
      "3.9410594406307076\n",
      "3.8841075467323556\n",
      "3.8274101101787905\n",
      "3.7709518499992645\n",
      "3.714718566778675\n",
      "3.658697059894292\n",
      "3.602875053198874\n",
      "3.5472411282462044\n",
      "3.491784664280706\n",
      "3.4364957843206527\n",
      "3.381365306757586\n",
      "3.3263847019753223\n",
      "3.2715460535624232\n",
      "3.216842023753953\n",
      "3.1622658227930986\n",
      "3.1078111819520897\n",
      "3.0534723299957163\n",
      "2.999243972910579\n",
      "2.945121276759671\n",
      "2.8910998535556556\n",
      "2.8371757500778156\n",
      "2.7833454395875714\n",
      "2.7296058164261034\n",
      "2.6759541935053583\n",
      "2.6223883027308394\n",
      "2.5689062984213757\n",
      "2.515506763817742\n",
      "2.462188720798755\n",
      "2.4089516429504134\n",
      "2.355795472160912\n",
      "2.302720638941919\n",
      "2.249728086704376\n",
      "2.1968193002451035\n",
      "2.143996338728508\n",
      "2.0912618734753017\n",
      "2.038619230896968\n",
      "1.9860724409400075\n",
      "1.9336262914270095\n",
      "1.8812863887011282\n",
      "1.8290592249952409\n",
      "1.7769522529551014\n",
      "1.7249739677449587\n",
      "1.6731339971516568\n",
      "1.6214432000757872\n",
      "1.5699137737520146\n",
      "1.5185593699703575\n",
      "1.46739522047028\n",
      "1.4164382715431885\n",
      "1.365707327698587\n",
      "1.315223204015894\n",
      "1.2650088865078533\n",
      "1.2150896994517892\n",
      "1.1654934781901123\n",
      "1.116250745349668\n",
      "1.0673948877692399\n",
      "1.0189623306455318\n",
      "0.9709927045025559\n",
      "0.9235289995540902\n",
      "0.8766177008667771\n",
      "0.8303088964548053\n",
      "0.7846563490708467\n",
      "0.7397175210433593\n",
      "0.6955535401094495\n",
      "0.652229092891962\n",
      "0.6098122315845267\n",
      "0.5683740786850446\n",
      "0.5279884144337438\n",
      "0.48873113217150377\n",
      "0.4506795483623083\n",
      "0.4139115567503262\n",
      "0.3785046202604974\n",
      "0.3445345999685188\n",
      "0.31207442784543543\n",
      "0.2811926389822658\n",
      "0.251951789412542\n",
      "0.224406797063085\n",
      "0.19860325513816154\n",
      "0.17457577851819375\n",
      "0.1523464534804391\n",
      "0.131923468055747\n",
      "0.11330000344215924\n",
      "0.09645346504931757\n",
      "0.08134512417325802\n",
      "0.06792022764980625\n",
      "0.0561086132960649\n",
      "0.04582584431319907\n",
      "0.036974847472993344\n",
      "0.02944800974304259\n",
      "0.023129658289754666\n",
      "0.01789882198387605\n",
      "0.013632151032630416\n",
      "0.010206857328440556\n",
      "0.0075035332156852845\n",
      "0.005408711647350163\n",
      "0.003817046320225067\n"
     ]
    }
   ],
   "source": [
    "x=10\n",
    "alpha = 1\n",
    "eps =  0.00001\n",
    "beta = 0.9\n",
    "s = 0\n",
    "num_iter = 10\n",
    "while True:\n",
    "    gradi = grad(x)\n",
    "    if gradi<=0.01:break\n",
    "    s = beta*s + (1-beta)*(gradi**2)\n",
    "    x = x - (alpha*gradi / (eps + np.sqrt(s)))\n",
    "    print(x)"
   ]
  },
  {
   "cell_type": "markdown",
   "id": "878dd732-4259-4575-9cd4-4651e7024887",
   "metadata": {},
   "source": [
    "## Adagrad"
   ]
  },
  {
   "cell_type": "code",
   "execution_count": 9,
   "id": "11e2b678-eb7c-42ed-adcf-14a2fc480646",
   "metadata": {},
   "outputs": [
    {
     "name": "stdout",
     "output_type": "stream",
     "text": [
      "9.000000000454\n",
      "8.000000001688097\n",
      "7.000000005042724\n",
      "6.000000014161551\n",
      "5.000000038949224\n",
      "4.000000106331746\n",
      "3.000000289549545\n",
      "2.000000788656999\n",
      "1.0000021672567942\n",
      "6.421817226875959e-06\n"
     ]
    }
   ],
   "source": [
    "x = 10\n",
    "alpha = 1\n",
    "eps = 1/100000\n",
    "while True:\n",
    "    gradi = grad(x)\n",
    "    if gradi<= 0.01:break\n",
    "    s = gradi **2\n",
    "    x = x-(alpha*gradi/(eps + np.sqrt(s)))\n",
    "    print(x)"
   ]
  },
  {
   "cell_type": "markdown",
   "id": "7c7ca881-de71-4ee6-87ff-9bc8eeeede97",
   "metadata": {},
   "source": [
    "## Adam"
   ]
  },
  {
   "cell_type": "code",
   "execution_count": 24,
   "id": "3e43f1b2-282c-4904-92a0-0dd21228089c",
   "metadata": {},
   "outputs": [
    {
     "name": "stdout",
     "output_type": "stream",
     "text": [
      "6.8377227938308565\n",
      "3.8589956603655957\n",
      "1.1700007248942792\n",
      "-1.2517239178088961\n",
      "-3.431905257059923\n",
      "-5.390604543888887\n",
      "-7.1226746971883\n",
      "-8.50168014144786\n",
      "-9.022692997926914\n",
      "-8.370973251874588\n",
      "-7.233048117246389\n",
      "-6.030663016147146\n",
      "-4.894210977347334\n",
      "-3.853593789072368\n",
      "-2.910454897599184\n",
      "-2.058828404731149\n",
      "-1.2909798139243835\n",
      "-0.5991335083903486\n",
      "0.024005005527795942\n"
     ]
    }
   ],
   "source": [
    "x = 10\n",
    "alpha = 1\n",
    "eps = 1/10000\n",
    "beta2 = 0.9\n",
    "beta1 = 0.999\n",
    "v,s = 0,0\n",
    "while True:\n",
    "    gradi = grad(x)\n",
    "    if np.abs(gradi) <= 0.1:break\n",
    "    v = beta2*v+(1-beta2)*gradi\n",
    "    s = beta1*s+(1-beta1)*gradi**2\n",
    "    x = x - (alpha*v/(eps + np.sqrt(s)))\n",
    "    print(x)"
   ]
  },
  {
   "cell_type": "code",
   "execution_count": null,
   "id": "f9d45bca-69b2-4447-8401-404abeb2fb31",
   "metadata": {},
   "outputs": [],
   "source": []
  }
 ],
 "metadata": {
  "kernelspec": {
   "display_name": "Python 3 (ipykernel)",
   "language": "python",
   "name": "python3"
  },
  "language_info": {
   "codemirror_mode": {
    "name": "ipython",
    "version": 3
   },
   "file_extension": ".py",
   "mimetype": "text/x-python",
   "name": "python",
   "nbconvert_exporter": "python",
   "pygments_lexer": "ipython3",
   "version": "3.8.8"
  }
 },
 "nbformat": 4,
 "nbformat_minor": 5
}
